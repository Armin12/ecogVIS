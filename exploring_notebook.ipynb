{
 "cells": [
  {
   "cell_type": "code",
   "execution_count": null,
   "metadata": {},
   "outputs": [],
   "source": [
    "from ecog_ts_gui import main\n",
    "import os"
   ]
  },
  {
   "cell_type": "code",
   "execution_count": null,
   "metadata": {
    "scrolled": false
   },
   "outputs": [],
   "source": [
    "fs_dir = os.environ['SUBJECTS_DIR']\n",
    "subj_file = 'ben_subjects/EC125_B22.nwb'\n",
    "fpath = os.path.join(fs_dir,subj_file)\n",
    "\n",
    "main(fpath)"
   ]
  },
  {
   "cell_type": "code",
   "execution_count": null,
   "metadata": {},
   "outputs": [],
   "source": []
  },
  {
   "cell_type": "code",
   "execution_count": null,
   "metadata": {},
   "outputs": [],
   "source": []
  },
  {
   "cell_type": "code",
   "execution_count": null,
   "metadata": {},
   "outputs": [],
   "source": []
  },
  {
   "cell_type": "code",
   "execution_count": null,
   "metadata": {},
   "outputs": [],
   "source": [
    "import pynwb\n",
    "import nwbext_ecog\n",
    "import matplotlib.pyplot as plt\n",
    "import os\n",
    "import numpy as np"
   ]
  },
  {
   "cell_type": "code",
   "execution_count": null,
   "metadata": {},
   "outputs": [],
   "source": [
    "fs_dir = os.environ['SUBJECTS_DIR']\n",
    "subj_file = 'ben_subjects/EC125_B22.nwb'\n",
    "fpath = os.path.join(fs_dir,subj_file)\n",
    "\n",
    "# Read NWB file\n",
    "nwb = pynwb.NWBHDF5IO(fpath, 'r').read()\n",
    "\n",
    "# Subject ID\n",
    "subject_id = nwb.subject.subject_id\n",
    "print('Subject ID: ', subject_id)\n",
    "\n",
    "# Anatomic names\n",
    "anatomic_names = list(nwb.subject.cortical_surfaces.surfaces.keys())\n",
    "print('Anamotic names:')\n",
    "print(anatomic_names)\n",
    "\n",
    "# ECoG\n",
    "ecog = nwb.acquisition['ECoG']\n",
    "plt.plot(ecog.data[:,0])"
   ]
  },
  {
   "cell_type": "code",
   "execution_count": null,
   "metadata": {},
   "outputs": [],
   "source": [
    "from pynwb.core import VectorData\n",
    "import h5py\n",
    "\n",
    "# Bad channels\n",
    "#nwb.electrodes['bad'][:]\n",
    "\n",
    "# Invalid time periods\n",
    "#nBI = nwb.invalid_times.columns[0][:]\n",
    "\n",
    "a = nwb.invalid_times.columns[0]\n",
    "#np.append(a[:],5)\n",
    "\n",
    "# New Bad Intervals\n",
    "newBI = np.array([[1., 1.3],[3., 4.5]])\n",
    "\n",
    "\n",
    "newBI_ini = VectorData(name='start_time', \n",
    "                       description='Start time of epoch, in second', \n",
    "                       data=newBI[:,0])\n"
   ]
  },
  {
   "cell_type": "code",
   "execution_count": null,
   "metadata": {},
   "outputs": [],
   "source": [
    "\n"
   ]
  },
  {
   "cell_type": "code",
   "execution_count": null,
   "metadata": {},
   "outputs": [],
   "source": [
    "a = nwb.invalid_times\n",
    "print(a.colnames)\n",
    "\n",
    "nwbTI = pynwb.epoch.TimeIntervals(name='any name', \n",
    "                                  description=a.description,\n",
    "                                  columns=[a.columns[0], a.columns[1]], \n",
    "                                  colnames=('start_time', 'stop_time'))\n",
    "\n",
    "\n",
    "\n",
    "# saving a NWB file\n",
    "#io = pynwb.NWBHDF5IO('luiz_test.nwb', 'w')\n",
    "#io.write(nwbfile1)\n",
    "#io.close()"
   ]
  },
  {
   "cell_type": "code",
   "execution_count": null,
   "metadata": {},
   "outputs": [],
   "source": []
  },
  {
   "cell_type": "code",
   "execution_count": null,
   "metadata": {},
   "outputs": [],
   "source": []
  },
  {
   "cell_type": "code",
   "execution_count": null,
   "metadata": {},
   "outputs": [],
   "source": []
  },
  {
   "cell_type": "code",
   "execution_count": null,
   "metadata": {},
   "outputs": [],
   "source": []
  },
  {
   "cell_type": "code",
   "execution_count": null,
   "metadata": {},
   "outputs": [],
   "source": [
    "import pynwb\n",
    "from pynwb import NWBFile, NWBHDF5IO\n",
    "from datetime import datetime\n",
    "\n",
    "# Make data source file\n",
    "nwbfile = NWBFile('aa','aa', datetime.now().astimezone())\n",
    "\n",
    "# Add invalid intervals\n",
    "nwbfile.add_invalid_time_interval(start_time=1.0, stop_time=2.0)\n",
    "nwbfile.add_invalid_time_interval(start_time=5.0, stop_time=7.0)\n",
    "print('Invalid times, start: ', nwbfile.invalid_times['start_time'].data)\n",
    "print('Data format: ', type(nwbfile.invalid_times['start_time'].data))\n",
    "print('-------------------------------------------------')\n",
    "\n",
    "# Save data source file\n",
    "with NWBHDF5IO('test_out.nwb', 'w') as io:\n",
    "  io.write(nwbfile)\n",
    "\n",
    "# New instance\n",
    "nwb2 = NWBHDF5IO('test_out.nwb', 'r').read()\n",
    "print('Invalid times, start: ', nwb2.invalid_times['start_time'].data[:])\n",
    "print('Data format: ', type(nwb2.invalid_times['start_time'].data))\n",
    "\n",
    "# Try to use methods to add new invalid time intervals\n",
    "# All 3 methods will give errors\n",
    "#nwb2.add_invalid_time_interval(start_time=8.0, stop_time=12.7)\n",
    "#nwb2.invalid_times.add_interval(start_time=8.0, stop_time=12.7)\n",
    "#nwb2.invalid_times.columns[0].add_row(8.0)"
   ]
  },
  {
   "cell_type": "code",
   "execution_count": null,
   "metadata": {},
   "outputs": [],
   "source": [
    "from pynwb.epoch import TimeIntervals\n",
    "import numpy as np\n",
    "#isinstance(nwb2.invalid_times['start_time'].data, h5py.Dataset)\n",
    "\n",
    "# To append new data to an existing Dataset, it needs to be resized \n",
    "a = nwb2.invalid_times['start_time'].data\n",
    "\n",
    "#hf[\"X_train\"].resize((hf[\"X_train\"].shape[0] + X_train_data.shape[0]), axis = 0)\n",
    "#hf[\"X_train\"][-X_train_data.shape[0]:] = X_train_data\n",
    "\n",
    "nwb2.invalid_times = TimeIntervals('invalid_times', 'time intervals to be removed from analysis')\n",
    "#nwb2.add_invalid_time_interval(start_time=8.0, stop_time=12.7)"
   ]
  },
  {
   "cell_type": "code",
   "execution_count": null,
   "metadata": {},
   "outputs": [],
   "source": [
    "nwb2.invalid_times['start_time'].data = np.array([1,2,3,4])"
   ]
  },
  {
   "cell_type": "code",
   "execution_count": null,
   "metadata": {},
   "outputs": [],
   "source": []
  }
 ],
 "metadata": {
  "kernelspec": {
   "display_name": "Python 3",
   "language": "python",
   "name": "python3"
  },
  "language_info": {
   "codemirror_mode": {
    "name": "ipython",
    "version": 3
   },
   "file_extension": ".py",
   "mimetype": "text/x-python",
   "name": "python",
   "nbconvert_exporter": "python",
   "pygments_lexer": "ipython3",
   "version": "3.7.3"
  }
 },
 "nbformat": 4,
 "nbformat_minor": 2
}
