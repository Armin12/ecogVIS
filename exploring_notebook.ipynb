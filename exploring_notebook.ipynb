{
 "cells": [
  {
   "cell_type": "code",
   "execution_count": null,
   "metadata": {},
   "outputs": [],
   "source": [
    "from ecog_ts_gui import main\n",
    "import os"
   ]
  },
  {
   "cell_type": "code",
   "execution_count": null,
   "metadata": {
    "scrolled": false
   },
   "outputs": [],
   "source": [
    "fs_dir = os.environ['SUBJECTS_DIR']\n",
    "subj_file = 'ben_subjects/EC125_B22.nwb'\n",
    "fpath = os.path.join(fs_dir,subj_file)\n",
    "\n",
    "main(fpath)"
   ]
  },
  {
   "cell_type": "code",
   "execution_count": null,
   "metadata": {},
   "outputs": [],
   "source": []
  },
  {
   "cell_type": "code",
   "execution_count": null,
   "metadata": {},
   "outputs": [],
   "source": []
  },
  {
   "cell_type": "code",
   "execution_count": null,
   "metadata": {},
   "outputs": [],
   "source": []
  },
  {
   "cell_type": "code",
   "execution_count": null,
   "metadata": {},
   "outputs": [],
   "source": [
    "import pynwb\n",
    "import nwbext_ecog\n",
    "import matplotlib.pyplot as plt\n",
    "import os"
   ]
  },
  {
   "cell_type": "code",
   "execution_count": null,
   "metadata": {},
   "outputs": [],
   "source": [
    "fs_dir = os.environ['SUBJECTS_DIR']\n",
    "subj_file = 'ben_subjects/EC125_B22.nwb'\n",
    "fpath = os.path.join(fs_dir,subj_file)\n",
    "\n",
    "# Read NWB file\n",
    "nwb = pynwb.NWBHDF5IO(fpath, 'r').read()\n",
    "\n",
    "# Subject ID\n",
    "subject_id = nwb.subject.subject_id\n",
    "print('Subject ID: ', subject_id)\n",
    "\n",
    "# Anatomic names\n",
    "anatomic_names = list(nwb.subject.cortical_surfaces.surfaces.keys())\n",
    "print('Anamotic names:')\n",
    "print(anatomic_names)\n",
    "\n",
    "# ECoG\n",
    "ecog = nwb.acquisition['ECoG']\n",
    "plt.plot(ecog.data[:,0])"
   ]
  },
  {
   "cell_type": "code",
   "execution_count": null,
   "metadata": {},
   "outputs": [],
   "source": [
    "# Bad channels\n",
    "#nwb.electrodes['bad'][:]\n",
    "\n",
    "# Invalid time periods\n",
    "#nBI = nwb.invalid_times.columns[0][:]\n",
    "\n",
    "nwb.invalid_times.columns[0][:].shape[0]"
   ]
  },
  {
   "cell_type": "code",
   "execution_count": null,
   "metadata": {},
   "outputs": [],
   "source": []
  }
 ],
 "metadata": {
  "kernelspec": {
   "display_name": "Python 3",
   "language": "python",
   "name": "python3"
  },
  "language_info": {
   "codemirror_mode": {
    "name": "ipython",
    "version": 3
   },
   "file_extension": ".py",
   "mimetype": "text/x-python",
   "name": "python",
   "nbconvert_exporter": "python",
   "pygments_lexer": "ipython3",
   "version": "3.7.3"
  }
 },
 "nbformat": 4,
 "nbformat_minor": 2
}
